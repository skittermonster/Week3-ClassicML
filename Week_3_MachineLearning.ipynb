{
  "cells": [
    {
      "cell_type": "markdown",
      "metadata": {
        "id": "view-in-github",
        "colab_type": "text"
      },
      "source": [
        "<a href=\"https://colab.research.google.com/github/skittermonster/Week3-ClassicML/blob/newBranchInForkWeek3/Week_3_MachineLearning.ipynb\" target=\"_parent\"><img src=\"https://colab.research.google.com/assets/colab-badge.svg\" alt=\"Open In Colab\"/></a>"
      ]
    },
    {
      "cell_type": "code",
      "source": [
        "from google.colab import drive\n",
        "drive.mount('/content/drive')"
      ],
      "metadata": {
        "colab": {
          "base_uri": "https://localhost:8080/"
        },
        "id": "ywb8NifF9XN3",
        "outputId": "02574e3b-b411-4a94-d624-1abe3bcb3e45"
      },
      "execution_count": null,
      "outputs": [
        {
          "output_type": "stream",
          "name": "stdout",
          "text": [
            "Drive already mounted at /content/drive; to attempt to forcibly remount, call drive.mount(\"/content/drive\", force_remount=True).\n"
          ]
        }
      ]
    },
    {
      "cell_type": "markdown",
      "metadata": {
        "id": "q5CvOjjrL9gw"
      },
      "source": [
        "<center><h1> Introduction to Audio Classification with Machine Learning Models </h1></center>\n",
        "\n",
        "\n",
        "\n",
        "### Purpose\n",
        "This notebook serves as an introduction to working with audio data for classification problems; it is meant as a learning resource rather than a demonstration of the state-of-the-art. The techniques mentioned in this notebook apply not only to classification problems, but to regression problems and problems dealing with other types of input data as well. I provide an introduction to a few key machine learning models and the logic in choosing their hyperparameters. These objectives are framed by the task of recognizing emotion from snippets of speech audio.\n",
        "\n",
        " Training data should be used strictly for training a model, validation data strictly for tuning a model, and test data strictly to evaluate a model once it is tuned - a model should never be tuned to perform better on test data.\n",
        "\n",
        "\n",
        "\n",
        "\n",
        "\n",
        "Classic machine learning models such as Support Vector Machines (SVM), k Nearest Neighbours (kNN), and Random Forests have distinct advantages to deep neural networks in many tasks."
      ]
    },
    {
      "cell_type": "markdown",
      "metadata": {
        "id": "QQsTfGREL9g1"
      },
      "source": [
        "<!--TABLE OF CONTENTS-->\n",
        "\n",
        "\n",
        "# Table of Contents\n",
        "  - [Intro: Speech Emotion Recognition on the RAVDESS dataset](#Intro:-Speech-Emotion-Recognition-on-the-RAVDESS-dataset)\n",
        "  - [Machine Learning Process Overview](#Machine-Learning-Process-Overview)\n",
        "  - [Feature Extraction](#Feature-Extraction)\n",
        "    - [Load the Dataset and Compute Features](#Load-the-Dataset-and-Compute-Features)\n",
        "    - [Feature Scaling](#Feature-Scaling)\n",
        "  - [Classical Machine Learning Models](#Classical-Machine-Learning-Models)\n",
        "    - [Training: The 80/20 Split and Validation](#Training:-The-80/20-Split-and-Validation)\n",
        "    - [Comparing Models](#Comparing-Models)\n",
        "    - [The Support Vector Machine Classifier](#The-Support-Vector-Machine-Classifier)\n",
        "    - [k Nearest Neighbours](#k-Nearest-Neighbours)\n",
        "    - [Random Forests](#Random-Forests)\n",
        "\n"
      ]
    },
    {
      "cell_type": "markdown",
      "metadata": {
        "pycharm": {
          "name": "#%% md\n"
        },
        "id": "hZUcbr4PL9g2"
      },
      "source": [
        "## Intro: Speech Emotion Recognition on the RAVDESS dataset\n",
        "In this notebook we explore the most common machine learning models, specifically those available off the shelf in scikit-learn.\n",
        "\n",
        "I'm going to use the RAVDESS dataset (Ryerson Audio-Visual Database of Emotional Speech and Song dataset), created by Steven Livingstone and Frank Russo of Ryerson University. <br>\n",
        "[Details of the RAVDESS dataset](https://smartlaboratory.org/ravdess/) <br>\n",
        "[Download the dataset used in this notebook](https://zenodo.org/record/1188976) <br> Scroll half-way down the page and find \"Audio_Speech_Actors_01-24\"<br>\n",
        "\n",
        "We're going to use the audio-only speech portion of the RAVDESS dataset, ~200MB.\n",
        "Audio is sourced from 24 actors (12 male, 12 female) repeating two sentences with\n",
        "a variety of emotions and intensity. We get 1440 speech files (24 actors * 60 recordings per actor). Each audio sample has been rated  by a human 10 times for emotional quality.\n",
        "\n",
        "## Machine Learning Process Overview\n",
        "1. Feature Engineering: Choose and define the properties which our model will use to evaluate the audio files. <br>\n",
        "2. Feature Extraction: Compute the features for each audio file and build a feature matrix representing all audio files. <br>\n",
        "3. Model exploration: Test candidate models that make sense for the properies of the dataset\n",
        "4. Training the MLP Classifier model: Choose and optimize the properties of our model on validation data - hyperparameters and architechture.  <br>\n",
        "5. Evaluate our model's performance: Evaluate our model's accuracy on validation data and score it against test data which it has never seen in training.<br>\n",
        "6. Explore options for improving our model: Is our dataset the right size? Is our model too complex or too simple? <br>\n"
      ]
    },
    {
      "cell_type": "code",
      "source": [
        "#importing the required libraries\n",
        "\n",
        "import matplotlib.pyplot as plt\n",
        "import pandas as pd\n",
        "import numpy as np\n",
        "import librosa.display\n",
        "import soundfile\n",
        "import os\n",
        "# matplotlib complains about the behaviour of librosa.display, so we'll ignore those warnings:\n",
        "import warnings; warnings.filterwarnings('ignore')"
      ],
      "metadata": {
        "id": "b2IL0uT19_3A"
      },
      "execution_count": 112,
      "outputs": []
    },
    {
      "cell_type": "markdown",
      "metadata": {
        "pycharm": {
          "name": "#%% md\n"
        },
        "id": "eu8VPhDmL9hC"
      },
      "source": [
        "## Feature Extraction\n",
        "We're going to take full advantage of librosa, a Python library enabling audio analysis and feature extraction.\n",
        "Librosa abstracts away all the math and most of the details of mel spectrorgams, chromagrams, and MFCC.\n",
        "Although closely related, we're going to take the Mel Spectrogram, MFCC, and chromagrams of each audio file as separate features to try\n",
        "and have bit more discriminatory power between samples. <br>\n",
        "\n",
        "Let's build our feature extraction functions to get a chromagram, a mel spectorgram, and MFC coefficients for each of our audio files. Because the chromagram, mel spectrogram and MFCCs are calculated on audio frames produced by STFT, we're going to get a matrix back from each function, so we'll take the mean of those matrices to produce a single feature array for each feature and each audio sample, i.e. 3 feature arrays per audio sample.\n",
        "\n",
        "**Chromagram**: Will produce 12 features; One for each of 12 pitch classes\n",
        "\n",
        "**Mel Spectrogram**: Will produce 128 features; We've defined the number of mel frequency bands at n_mels=128\n",
        "\n",
        "**MFCC**: Will produce 40 MFCCs; I've set the number of coefficients to return at n_mfcc=40 which I found to work well"
      ]
    },
    {
      "cell_type": "code",
      "execution_count": 113,
      "metadata": {
        "pycharm": {
          "name": "#%%\n"
        },
        "id": "qTe93WYTL9hD"
      },
      "outputs": [],
      "source": [
        "\n",
        "\n",
        "def feature_chromagram(waveform, sample_rate):\n",
        "    # STFT computed here explicitly; mel spectrogram and MFCC functions do this under the hood\n",
        "    stft_spectrogram=np.abs(librosa.stft(waveform))\n",
        "    # Produce the chromagram for all STFT frames and get the mean of each column of the resulting matrix to create a feature array\n",
        "    chromagram=np.mean(librosa.feature.chroma_stft(S=stft_spectrogram, sr=sample_rate).T,axis=0)\n",
        "    return chromagram\n",
        "\n",
        "def feature_melspectrogram(waveform, sample_rate):\n",
        "    # Produce the mel spectrogram for all STFT frames and get the mean of each column of the resulting matrix to create a feature array\n",
        "    # Using 8khz as upper frequency bound should be enough for most speech classification tasks\n",
        "    melspectrogram=np.mean(librosa.feature.melspectrogram(y=waveform, sr=sample_rate, n_mels=128, fmax=8000).T,axis=0)\n",
        "    return melspectrogram\n",
        "\n",
        "def feature_mfcc(waveform, sample_rate):\n",
        "    # Compute the MFCCs for all STFT frames and get the mean of each column of the resulting matrix to create a feature array\n",
        "    # 40 filterbanks = 40 coefficients\n",
        "    mfc_coefficients=np.mean(librosa.feature.mfcc(y=waveform, sr=sample_rate, n_mfcc=40).T, axis=0)\n",
        "    return mfc_coefficients"
      ]
    },
    {
      "cell_type": "markdown",
      "metadata": {
        "pycharm": {
          "name": "#%% md\n"
        },
        "id": "xjFXIfC2L9hD"
      },
      "source": [
        "We're going to wrap our feature extraction functions so we only have to load each audio file once. After extracting our 3 audio features as NumPy arrays representing a time series, we're going to\n",
        "stack them horizontally to create a single feature array."
      ]
    },
    {
      "cell_type": "code",
      "execution_count": 114,
      "metadata": {
        "pycharm": {
          "name": "#%%\n"
        },
        "id": "xPMw9ijJL9hE"
      },
      "outputs": [],
      "source": [
        "def get_features(file):\n",
        "    # load an individual soundfile\n",
        "     with soundfile.SoundFile(file) as audio:\n",
        "        waveform = audio.read(dtype=\"float32\")\n",
        "        sample_rate = audio.samplerate\n",
        "        # compute features of soundfile\n",
        "        chromagram = feature_chromagram(waveform, sample_rate)\n",
        "        melspectrogram = feature_melspectrogram(waveform, sample_rate)\n",
        "        mfc_coefficients = feature_mfcc(waveform, sample_rate)\n",
        "\n",
        "        feature_matrix=np.array([])\n",
        "\n",
        "        # Check the shape of chromagram\n",
        "        if chromagram.ndim > 1 and chromagram.shape[1] > 1:\n",
        "            #print(f\"Returning zero vector for chromagram size: {file} (shape: {chromagram.shape})\")\n",
        "            chromagram = np.zeros((12,))  # Return a zero vector of size (12,)\n",
        "\n",
        "        # Check the shape of mel spectrogram\n",
        "        if melspectrogram.ndim > 1 and melspectrogram.shape[1] > 1:\n",
        "            #print(f\"Returning zero vector for mel spectrogram size: {file} (shape: {melspectrogram.shape})\")\n",
        "            melspectrogram = np.zeros((128,))  # Return a zero vector of size (128,)\n",
        "\n",
        "        # Check the shape of MFCC coefficients\n",
        "        if mfc_coefficients.ndim > 1 and mfc_coefficients.shape[1] > 1:\n",
        "            #print(f\"Returning zero vector for MFCC size: {file} (shape: {mfc_coefficients.shape})\")\n",
        "            mfc_coefficients = np.zeros((40,))  # Return a zero vector of size (40,)\n",
        "\n",
        "        # use np.hstack to stack our feature arrays horizontally to create a feature matrix\n",
        "        feature_matrix = np.hstack((chromagram, melspectrogram, mfc_coefficients))\n",
        "\n",
        "        return feature_matrix"
      ]
    },
    {
      "cell_type": "markdown",
      "metadata": {
        "pycharm": {
          "name": "#%% md\n"
        },
        "id": "c-C6g6psL9hE"
      },
      "source": [
        "### Load the Dataset and Compute Features\n",
        "We have to understand the labelling of the RAVDESS dataset to find the ground truth emotion for each sample.\n",
        "Each file is labelled with 7 numbers delimited by a \"-\".\n",
        "Most of the numbers describe metadata about the audio samples such as their format (video and/or audio),\n",
        "whether the audio is a song or statement, which of two statements is being read and by which actor.\n",
        "\n",
        "The third and fourth numbers pertain to the emotional quality of each sample. The third number is in the range of 1-8 with each number representing an emotion.\n",
        "The fourth number is either 1 or 2, representing normal (1) or strong (2) emotional intensity.\n",
        "\n",
        "We're going to define a dictionary based on the third number (emotion) and assign an emotion to each number as specified by the RAVDESS dataset:"
      ]
    },
    {
      "cell_type": "code",
      "execution_count": 115,
      "metadata": {
        "pycharm": {
          "name": "#%%\n"
        },
        "id": "z-Pu_fB7L9hF"
      },
      "outputs": [],
      "source": [
        "#Emotions in the RAVDESS dataset\n",
        "emotions_dict ={\n",
        "  '01':'neutral',\n",
        "  '02':'calm',\n",
        "  '03':'happy',\n",
        "  '04':'sad',\n",
        "  '05':'angry',\n",
        "  '06':'fearful',\n",
        "  '07':'disgust',\n",
        "  '08':'surprised'\n",
        "}"
      ]
    },
    {
      "cell_type": "markdown",
      "metadata": {
        "pycharm": {
          "name": "#%% md\n"
        },
        "id": "pTlsUOwXL9hF"
      },
      "source": [
        "Finally, let's load our entire dataset and compute the features of each audio file:"
      ]
    },
    {
      "cell_type": "markdown",
      "source": [],
      "metadata": {
        "id": "H56ZoHeeVkUv"
      }
    },
    {
      "cell_type": "code",
      "execution_count": 116,
      "metadata": {
        "pycharm": {
          "name": "#%%\n"
        },
        "id": "mAh2AYMpL9hF"
      },
      "outputs": [],
      "source": [
        "import os, glob\n",
        "\n",
        "def load_data():\n",
        "    X,y=[],[]\n",
        "    count = 0\n",
        "    for file in glob.glob(\"Desktop/iat_360/Audio Data/Actor_*/*.wav\"):\n",
        "        file_name=os.path.basename(file)\n",
        "        emotion=emotions_dict[file_name.split(\"-\")[2]]\n",
        "        features = get_features(file)\n",
        "        X.append(features)\n",
        "        y.append(emotion)\n",
        "        count += 1\n",
        "        # '\\r' + end='' results in printing over same line\n",
        "        print('\\r' + f' Processed {count}/{1440} audio samples',end=' ')\n",
        "    # Return arrays to plug into sklearn's cross-validation algorithms\n",
        "    return np.array(X), np.array(y)"
      ]
    },
    {
      "cell_type": "markdown",
      "source": [
        "**My cell for running MY OWN audio**"
      ],
      "metadata": {
        "id": "uqZYzLM6Vpbx"
      }
    },
    {
      "cell_type": "code",
      "source": [
        "import os, glob\n",
        "\n",
        "def load_data():\n",
        "    X,y=[],[]\n",
        "    count = 0\n",
        "    for file in glob.glob(\"Desktop/iat_360/myAudio/Actor_*/*.wav\"):\n",
        "        file_name=os.path.basename(file)\n",
        "        emotion=emotions_dict[file_name.split(\"-\")[2]]\n",
        "        features = get_features(file)\n",
        "        X.append(features)\n",
        "        y.append(emotion)\n",
        "        count += 1\n",
        "        # '\\r' + end='' results in printing over same line\n",
        "        #added 16 because my audio added\n",
        "        print('\\r' + f' Processed {count}/{16} audio samples',end=' ')\n",
        "    # Return arrays to plug into sklearn's cross-validation algorithms\n",
        "    return np.array(X), np.array(y)"
      ],
      "metadata": {
        "id": "Ya3Q5lsWVxo7"
      },
      "execution_count": 156,
      "outputs": []
    },
    {
      "cell_type": "markdown",
      "source": [],
      "metadata": {
        "id": "m9iexhaxVyBW"
      }
    },
    {
      "cell_type": "markdown",
      "metadata": {
        "pycharm": {
          "name": "#%% md\n"
        },
        "id": "3Cf8q4K5L9hG"
      },
      "source": [
        "Compute the feature matrix and read the emotion labels for the entire dataset.\n",
        "Note that our regressor (independent/explanatory variable), usually denoted X, is named 'features', and our regressand (dependent variable), usually denoted y, is named 'emotions'."
      ]
    },
    {
      "cell_type": "markdown",
      "source": [],
      "metadata": {
        "id": "ej4NVT0XVnu2"
      }
    },
    {
      "cell_type": "code",
      "execution_count": 157,
      "metadata": {
        "pycharm": {
          "name": "#%%\n"
        },
        "id": "XeKE591aL9hG",
        "outputId": "d10ffc9b-0058-4bc1-fcfa-d02c2006d290",
        "colab": {
          "base_uri": "https://localhost:8080/"
        }
      },
      "outputs": [
        {
          "output_type": "stream",
          "name": "stdout",
          "text": [
            " Processed 16/16 audio samples "
          ]
        }
      ],
      "source": [
        "features, emotions = load_data()"
      ]
    },
    {
      "cell_type": "markdown",
      "metadata": {
        "pycharm": {
          "name": "#%% md\n"
        },
        "id": "RVUa7RAuL9hG"
      },
      "source": [
        "Let's see what the features we extracted look like, **also for saving both the features matrix as well as emotions array, we need to convert them to pandas dataframe.**"
      ]
    },
    {
      "cell_type": "code",
      "execution_count": 158,
      "metadata": {
        "pycharm": {
          "name": "#%%\n"
        },
        "id": "mzxX583yL9hG",
        "outputId": "452b4a5a-9054-4e9c-b599-748c2240d74d",
        "colab": {
          "base_uri": "https://localhost:8080/",
          "height": 652
        }
      },
      "outputs": [
        {
          "output_type": "stream",
          "name": "stdout",
          "text": [
            "\n",
            "Audio samples represented: 16\n",
            "Numerical features extracted per sample: 180\n"
          ]
        },
        {
          "output_type": "execute_result",
          "data": {
            "text/plain": [
              "         0         1         2         3         4         5         6    \\\n",
              "0   0.686256  0.750804  0.734328  0.735672  0.707263  0.692917  0.701380   \n",
              "1   0.566436  0.579590  0.691311  0.777017  0.623231  0.577237  0.600158   \n",
              "2   0.775012  0.801304  0.787155  0.803958  0.801701  0.748247  0.716731   \n",
              "3   0.761638  0.686427  0.604778  0.592464  0.609953  0.631393  0.596203   \n",
              "4   0.662464  0.679047  0.752552  0.800666  0.743129  0.698429  0.739090   \n",
              "5   0.706810  0.737057  0.720407  0.702003  0.691672  0.680054  0.725540   \n",
              "6   0.766183  0.766020  0.794082  0.806862  0.787595  0.798360  0.799016   \n",
              "7   0.706713  0.712030  0.748081  0.784932  0.772039  0.699359  0.678187   \n",
              "8   0.701516  0.707626  0.708205  0.743672  0.754515  0.768393  0.770825   \n",
              "9   0.703055  0.695573  0.693107  0.730005  0.734980  0.708623  0.736269   \n",
              "10  0.677661  0.641822  0.609778  0.618247  0.635002  0.627016  0.617637   \n",
              "11  0.784217  0.766892  0.794790  0.778305  0.769725  0.762063  0.724707   \n",
              "12  0.775391  0.751453  0.789255  0.810792  0.780595  0.728270  0.718260   \n",
              "13  0.821274  0.782880  0.731903  0.726604  0.738203  0.706389  0.697692   \n",
              "14  0.790802  0.779819  0.757855  0.762759  0.780522  0.724320  0.712147   \n",
              "15  0.703772  0.732136  0.763454  0.784633  0.769052  0.737733  0.765341   \n",
              "\n",
              "         7         8         9    ...       170       171       172       173  \\\n",
              "0   0.655903  0.669952  0.641499  ... -1.406514  0.143974 -0.858707 -1.247057   \n",
              "1   0.573471  0.541835  0.429390  ... -8.576233 -3.207134 -5.266016 -8.475245   \n",
              "2   0.680019  0.689730  0.723360  ... -1.571157 -1.894101 -2.682918 -1.346464   \n",
              "3   0.541197  0.543607  0.598140  ... -2.501032 -2.375164 -5.271877 -4.489208   \n",
              "4   0.771906  0.736974  0.680864  ... -1.918805 -1.448219 -4.868976  0.390227   \n",
              "5   0.765479  0.761957  0.721460  ... -1.346498 -1.886470 -6.108421 -1.672109   \n",
              "6   0.736929  0.733138  0.709680  ... -0.592682 -1.035711 -2.988499 -1.662291   \n",
              "7   0.665572  0.668631  0.673915  ... -1.733152 -3.212385 -3.653466 -2.710814   \n",
              "8   0.732599  0.701238  0.708201  ... -2.710539 -1.802835 -2.860446 -0.811128   \n",
              "9   0.737036  0.737659  0.692498  ... -2.454294 -1.219498 -5.027716 -2.069505   \n",
              "10  0.597920  0.586677  0.608443  ... -2.758679  1.401558 -1.974292 -2.853614   \n",
              "11  0.694200  0.723441  0.764632  ... -2.895015  0.781577 -3.153876 -1.606004   \n",
              "12  0.719797  0.722495  0.737190  ...  2.017783 -1.059236 -7.198715  3.419092   \n",
              "13  0.715250  0.748686  0.764867  ... -4.688320 -0.002982 -0.531748 -2.912003   \n",
              "14  0.722958  0.710580  0.715380  ... -1.346799 -2.583266 -2.709317  0.579279   \n",
              "15  0.766632  0.722657  0.704622  ... -2.698308 -1.928475 -2.191844 -2.630669   \n",
              "\n",
              "         174       175       176       177       178       179  \n",
              "0  -0.129365 -3.092327 -1.895999 -0.217100 -2.513788 -1.853577  \n",
              "1  -6.493635 -5.210080 -3.966235 -2.607194  2.058663  4.444919  \n",
              "2  -0.532834 -3.768876 -1.553765 -0.932499 -1.533505 -0.857808  \n",
              "3  -1.601743 -2.792167 -7.056908 -2.624687 -3.336041 -4.870374  \n",
              "4  -2.403893 -4.205048 -4.987683 -3.643880 -3.688146 -0.887613  \n",
              "5  -1.350826 -4.859785 -5.048583 -4.200231 -4.797446 -3.093357  \n",
              "6  -0.241330 -1.034426 -2.360056 -2.292427 -0.352738 -0.973008  \n",
              "7  -2.092624 -3.260946 -3.255537 -2.144646 -2.180572 -0.955414  \n",
              "8   0.259462 -2.261561  0.140336  0.183016 -1.048384 -0.298455  \n",
              "9  -2.082901 -0.021984 -4.353004 -2.385362 -0.803793 -1.194023  \n",
              "10 -2.023530 -4.231662 -3.869212 -2.818471 -3.183426 -2.259931  \n",
              "11 -2.262101 -0.414519 -4.847393 -0.989035 -2.910082 -1.083918  \n",
              "12 -3.960372 -0.387141 -5.007301 -3.418187 -1.248831 -1.299820  \n",
              "13 -1.553720 -2.332860 -3.071201 -2.032900 -2.522182 -1.324053  \n",
              "14 -3.085995 -0.904226 -2.884146 -2.863875 -0.088176 -1.384106  \n",
              "15 -2.122283 -2.785492 -1.491617 -2.421156 -2.335047 -1.144312  \n",
              "\n",
              "[16 rows x 180 columns]"
            ],
            "text/html": [
              "<div>\n",
              "<style scoped>\n",
              "    .dataframe tbody tr th:only-of-type {\n",
              "        vertical-align: middle;\n",
              "    }\n",
              "\n",
              "    .dataframe tbody tr th {\n",
              "        vertical-align: top;\n",
              "    }\n",
              "\n",
              "    .dataframe thead th {\n",
              "        text-align: right;\n",
              "    }\n",
              "</style>\n",
              "<table border=\"1\" class=\"dataframe\">\n",
              "  <thead>\n",
              "    <tr style=\"text-align: right;\">\n",
              "      <th></th>\n",
              "      <th>0</th>\n",
              "      <th>1</th>\n",
              "      <th>2</th>\n",
              "      <th>3</th>\n",
              "      <th>4</th>\n",
              "      <th>5</th>\n",
              "      <th>6</th>\n",
              "      <th>7</th>\n",
              "      <th>8</th>\n",
              "      <th>9</th>\n",
              "      <th>...</th>\n",
              "      <th>170</th>\n",
              "      <th>171</th>\n",
              "      <th>172</th>\n",
              "      <th>173</th>\n",
              "      <th>174</th>\n",
              "      <th>175</th>\n",
              "      <th>176</th>\n",
              "      <th>177</th>\n",
              "      <th>178</th>\n",
              "      <th>179</th>\n",
              "    </tr>\n",
              "  </thead>\n",
              "  <tbody>\n",
              "    <tr>\n",
              "      <th>0</th>\n",
              "      <td>0.686256</td>\n",
              "      <td>0.750804</td>\n",
              "      <td>0.734328</td>\n",
              "      <td>0.735672</td>\n",
              "      <td>0.707263</td>\n",
              "      <td>0.692917</td>\n",
              "      <td>0.701380</td>\n",
              "      <td>0.655903</td>\n",
              "      <td>0.669952</td>\n",
              "      <td>0.641499</td>\n",
              "      <td>...</td>\n",
              "      <td>-1.406514</td>\n",
              "      <td>0.143974</td>\n",
              "      <td>-0.858707</td>\n",
              "      <td>-1.247057</td>\n",
              "      <td>-0.129365</td>\n",
              "      <td>-3.092327</td>\n",
              "      <td>-1.895999</td>\n",
              "      <td>-0.217100</td>\n",
              "      <td>-2.513788</td>\n",
              "      <td>-1.853577</td>\n",
              "    </tr>\n",
              "    <tr>\n",
              "      <th>1</th>\n",
              "      <td>0.566436</td>\n",
              "      <td>0.579590</td>\n",
              "      <td>0.691311</td>\n",
              "      <td>0.777017</td>\n",
              "      <td>0.623231</td>\n",
              "      <td>0.577237</td>\n",
              "      <td>0.600158</td>\n",
              "      <td>0.573471</td>\n",
              "      <td>0.541835</td>\n",
              "      <td>0.429390</td>\n",
              "      <td>...</td>\n",
              "      <td>-8.576233</td>\n",
              "      <td>-3.207134</td>\n",
              "      <td>-5.266016</td>\n",
              "      <td>-8.475245</td>\n",
              "      <td>-6.493635</td>\n",
              "      <td>-5.210080</td>\n",
              "      <td>-3.966235</td>\n",
              "      <td>-2.607194</td>\n",
              "      <td>2.058663</td>\n",
              "      <td>4.444919</td>\n",
              "    </tr>\n",
              "    <tr>\n",
              "      <th>2</th>\n",
              "      <td>0.775012</td>\n",
              "      <td>0.801304</td>\n",
              "      <td>0.787155</td>\n",
              "      <td>0.803958</td>\n",
              "      <td>0.801701</td>\n",
              "      <td>0.748247</td>\n",
              "      <td>0.716731</td>\n",
              "      <td>0.680019</td>\n",
              "      <td>0.689730</td>\n",
              "      <td>0.723360</td>\n",
              "      <td>...</td>\n",
              "      <td>-1.571157</td>\n",
              "      <td>-1.894101</td>\n",
              "      <td>-2.682918</td>\n",
              "      <td>-1.346464</td>\n",
              "      <td>-0.532834</td>\n",
              "      <td>-3.768876</td>\n",
              "      <td>-1.553765</td>\n",
              "      <td>-0.932499</td>\n",
              "      <td>-1.533505</td>\n",
              "      <td>-0.857808</td>\n",
              "    </tr>\n",
              "    <tr>\n",
              "      <th>3</th>\n",
              "      <td>0.761638</td>\n",
              "      <td>0.686427</td>\n",
              "      <td>0.604778</td>\n",
              "      <td>0.592464</td>\n",
              "      <td>0.609953</td>\n",
              "      <td>0.631393</td>\n",
              "      <td>0.596203</td>\n",
              "      <td>0.541197</td>\n",
              "      <td>0.543607</td>\n",
              "      <td>0.598140</td>\n",
              "      <td>...</td>\n",
              "      <td>-2.501032</td>\n",
              "      <td>-2.375164</td>\n",
              "      <td>-5.271877</td>\n",
              "      <td>-4.489208</td>\n",
              "      <td>-1.601743</td>\n",
              "      <td>-2.792167</td>\n",
              "      <td>-7.056908</td>\n",
              "      <td>-2.624687</td>\n",
              "      <td>-3.336041</td>\n",
              "      <td>-4.870374</td>\n",
              "    </tr>\n",
              "    <tr>\n",
              "      <th>4</th>\n",
              "      <td>0.662464</td>\n",
              "      <td>0.679047</td>\n",
              "      <td>0.752552</td>\n",
              "      <td>0.800666</td>\n",
              "      <td>0.743129</td>\n",
              "      <td>0.698429</td>\n",
              "      <td>0.739090</td>\n",
              "      <td>0.771906</td>\n",
              "      <td>0.736974</td>\n",
              "      <td>0.680864</td>\n",
              "      <td>...</td>\n",
              "      <td>-1.918805</td>\n",
              "      <td>-1.448219</td>\n",
              "      <td>-4.868976</td>\n",
              "      <td>0.390227</td>\n",
              "      <td>-2.403893</td>\n",
              "      <td>-4.205048</td>\n",
              "      <td>-4.987683</td>\n",
              "      <td>-3.643880</td>\n",
              "      <td>-3.688146</td>\n",
              "      <td>-0.887613</td>\n",
              "    </tr>\n",
              "    <tr>\n",
              "      <th>5</th>\n",
              "      <td>0.706810</td>\n",
              "      <td>0.737057</td>\n",
              "      <td>0.720407</td>\n",
              "      <td>0.702003</td>\n",
              "      <td>0.691672</td>\n",
              "      <td>0.680054</td>\n",
              "      <td>0.725540</td>\n",
              "      <td>0.765479</td>\n",
              "      <td>0.761957</td>\n",
              "      <td>0.721460</td>\n",
              "      <td>...</td>\n",
              "      <td>-1.346498</td>\n",
              "      <td>-1.886470</td>\n",
              "      <td>-6.108421</td>\n",
              "      <td>-1.672109</td>\n",
              "      <td>-1.350826</td>\n",
              "      <td>-4.859785</td>\n",
              "      <td>-5.048583</td>\n",
              "      <td>-4.200231</td>\n",
              "      <td>-4.797446</td>\n",
              "      <td>-3.093357</td>\n",
              "    </tr>\n",
              "    <tr>\n",
              "      <th>6</th>\n",
              "      <td>0.766183</td>\n",
              "      <td>0.766020</td>\n",
              "      <td>0.794082</td>\n",
              "      <td>0.806862</td>\n",
              "      <td>0.787595</td>\n",
              "      <td>0.798360</td>\n",
              "      <td>0.799016</td>\n",
              "      <td>0.736929</td>\n",
              "      <td>0.733138</td>\n",
              "      <td>0.709680</td>\n",
              "      <td>...</td>\n",
              "      <td>-0.592682</td>\n",
              "      <td>-1.035711</td>\n",
              "      <td>-2.988499</td>\n",
              "      <td>-1.662291</td>\n",
              "      <td>-0.241330</td>\n",
              "      <td>-1.034426</td>\n",
              "      <td>-2.360056</td>\n",
              "      <td>-2.292427</td>\n",
              "      <td>-0.352738</td>\n",
              "      <td>-0.973008</td>\n",
              "    </tr>\n",
              "    <tr>\n",
              "      <th>7</th>\n",
              "      <td>0.706713</td>\n",
              "      <td>0.712030</td>\n",
              "      <td>0.748081</td>\n",
              "      <td>0.784932</td>\n",
              "      <td>0.772039</td>\n",
              "      <td>0.699359</td>\n",
              "      <td>0.678187</td>\n",
              "      <td>0.665572</td>\n",
              "      <td>0.668631</td>\n",
              "      <td>0.673915</td>\n",
              "      <td>...</td>\n",
              "      <td>-1.733152</td>\n",
              "      <td>-3.212385</td>\n",
              "      <td>-3.653466</td>\n",
              "      <td>-2.710814</td>\n",
              "      <td>-2.092624</td>\n",
              "      <td>-3.260946</td>\n",
              "      <td>-3.255537</td>\n",
              "      <td>-2.144646</td>\n",
              "      <td>-2.180572</td>\n",
              "      <td>-0.955414</td>\n",
              "    </tr>\n",
              "    <tr>\n",
              "      <th>8</th>\n",
              "      <td>0.701516</td>\n",
              "      <td>0.707626</td>\n",
              "      <td>0.708205</td>\n",
              "      <td>0.743672</td>\n",
              "      <td>0.754515</td>\n",
              "      <td>0.768393</td>\n",
              "      <td>0.770825</td>\n",
              "      <td>0.732599</td>\n",
              "      <td>0.701238</td>\n",
              "      <td>0.708201</td>\n",
              "      <td>...</td>\n",
              "      <td>-2.710539</td>\n",
              "      <td>-1.802835</td>\n",
              "      <td>-2.860446</td>\n",
              "      <td>-0.811128</td>\n",
              "      <td>0.259462</td>\n",
              "      <td>-2.261561</td>\n",
              "      <td>0.140336</td>\n",
              "      <td>0.183016</td>\n",
              "      <td>-1.048384</td>\n",
              "      <td>-0.298455</td>\n",
              "    </tr>\n",
              "    <tr>\n",
              "      <th>9</th>\n",
              "      <td>0.703055</td>\n",
              "      <td>0.695573</td>\n",
              "      <td>0.693107</td>\n",
              "      <td>0.730005</td>\n",
              "      <td>0.734980</td>\n",
              "      <td>0.708623</td>\n",
              "      <td>0.736269</td>\n",
              "      <td>0.737036</td>\n",
              "      <td>0.737659</td>\n",
              "      <td>0.692498</td>\n",
              "      <td>...</td>\n",
              "      <td>-2.454294</td>\n",
              "      <td>-1.219498</td>\n",
              "      <td>-5.027716</td>\n",
              "      <td>-2.069505</td>\n",
              "      <td>-2.082901</td>\n",
              "      <td>-0.021984</td>\n",
              "      <td>-4.353004</td>\n",
              "      <td>-2.385362</td>\n",
              "      <td>-0.803793</td>\n",
              "      <td>-1.194023</td>\n",
              "    </tr>\n",
              "    <tr>\n",
              "      <th>10</th>\n",
              "      <td>0.677661</td>\n",
              "      <td>0.641822</td>\n",
              "      <td>0.609778</td>\n",
              "      <td>0.618247</td>\n",
              "      <td>0.635002</td>\n",
              "      <td>0.627016</td>\n",
              "      <td>0.617637</td>\n",
              "      <td>0.597920</td>\n",
              "      <td>0.586677</td>\n",
              "      <td>0.608443</td>\n",
              "      <td>...</td>\n",
              "      <td>-2.758679</td>\n",
              "      <td>1.401558</td>\n",
              "      <td>-1.974292</td>\n",
              "      <td>-2.853614</td>\n",
              "      <td>-2.023530</td>\n",
              "      <td>-4.231662</td>\n",
              "      <td>-3.869212</td>\n",
              "      <td>-2.818471</td>\n",
              "      <td>-3.183426</td>\n",
              "      <td>-2.259931</td>\n",
              "    </tr>\n",
              "    <tr>\n",
              "      <th>11</th>\n",
              "      <td>0.784217</td>\n",
              "      <td>0.766892</td>\n",
              "      <td>0.794790</td>\n",
              "      <td>0.778305</td>\n",
              "      <td>0.769725</td>\n",
              "      <td>0.762063</td>\n",
              "      <td>0.724707</td>\n",
              "      <td>0.694200</td>\n",
              "      <td>0.723441</td>\n",
              "      <td>0.764632</td>\n",
              "      <td>...</td>\n",
              "      <td>-2.895015</td>\n",
              "      <td>0.781577</td>\n",
              "      <td>-3.153876</td>\n",
              "      <td>-1.606004</td>\n",
              "      <td>-2.262101</td>\n",
              "      <td>-0.414519</td>\n",
              "      <td>-4.847393</td>\n",
              "      <td>-0.989035</td>\n",
              "      <td>-2.910082</td>\n",
              "      <td>-1.083918</td>\n",
              "    </tr>\n",
              "    <tr>\n",
              "      <th>12</th>\n",
              "      <td>0.775391</td>\n",
              "      <td>0.751453</td>\n",
              "      <td>0.789255</td>\n",
              "      <td>0.810792</td>\n",
              "      <td>0.780595</td>\n",
              "      <td>0.728270</td>\n",
              "      <td>0.718260</td>\n",
              "      <td>0.719797</td>\n",
              "      <td>0.722495</td>\n",
              "      <td>0.737190</td>\n",
              "      <td>...</td>\n",
              "      <td>2.017783</td>\n",
              "      <td>-1.059236</td>\n",
              "      <td>-7.198715</td>\n",
              "      <td>3.419092</td>\n",
              "      <td>-3.960372</td>\n",
              "      <td>-0.387141</td>\n",
              "      <td>-5.007301</td>\n",
              "      <td>-3.418187</td>\n",
              "      <td>-1.248831</td>\n",
              "      <td>-1.299820</td>\n",
              "    </tr>\n",
              "    <tr>\n",
              "      <th>13</th>\n",
              "      <td>0.821274</td>\n",
              "      <td>0.782880</td>\n",
              "      <td>0.731903</td>\n",
              "      <td>0.726604</td>\n",
              "      <td>0.738203</td>\n",
              "      <td>0.706389</td>\n",
              "      <td>0.697692</td>\n",
              "      <td>0.715250</td>\n",
              "      <td>0.748686</td>\n",
              "      <td>0.764867</td>\n",
              "      <td>...</td>\n",
              "      <td>-4.688320</td>\n",
              "      <td>-0.002982</td>\n",
              "      <td>-0.531748</td>\n",
              "      <td>-2.912003</td>\n",
              "      <td>-1.553720</td>\n",
              "      <td>-2.332860</td>\n",
              "      <td>-3.071201</td>\n",
              "      <td>-2.032900</td>\n",
              "      <td>-2.522182</td>\n",
              "      <td>-1.324053</td>\n",
              "    </tr>\n",
              "    <tr>\n",
              "      <th>14</th>\n",
              "      <td>0.790802</td>\n",
              "      <td>0.779819</td>\n",
              "      <td>0.757855</td>\n",
              "      <td>0.762759</td>\n",
              "      <td>0.780522</td>\n",
              "      <td>0.724320</td>\n",
              "      <td>0.712147</td>\n",
              "      <td>0.722958</td>\n",
              "      <td>0.710580</td>\n",
              "      <td>0.715380</td>\n",
              "      <td>...</td>\n",
              "      <td>-1.346799</td>\n",
              "      <td>-2.583266</td>\n",
              "      <td>-2.709317</td>\n",
              "      <td>0.579279</td>\n",
              "      <td>-3.085995</td>\n",
              "      <td>-0.904226</td>\n",
              "      <td>-2.884146</td>\n",
              "      <td>-2.863875</td>\n",
              "      <td>-0.088176</td>\n",
              "      <td>-1.384106</td>\n",
              "    </tr>\n",
              "    <tr>\n",
              "      <th>15</th>\n",
              "      <td>0.703772</td>\n",
              "      <td>0.732136</td>\n",
              "      <td>0.763454</td>\n",
              "      <td>0.784633</td>\n",
              "      <td>0.769052</td>\n",
              "      <td>0.737733</td>\n",
              "      <td>0.765341</td>\n",
              "      <td>0.766632</td>\n",
              "      <td>0.722657</td>\n",
              "      <td>0.704622</td>\n",
              "      <td>...</td>\n",
              "      <td>-2.698308</td>\n",
              "      <td>-1.928475</td>\n",
              "      <td>-2.191844</td>\n",
              "      <td>-2.630669</td>\n",
              "      <td>-2.122283</td>\n",
              "      <td>-2.785492</td>\n",
              "      <td>-1.491617</td>\n",
              "      <td>-2.421156</td>\n",
              "      <td>-2.335047</td>\n",
              "      <td>-1.144312</td>\n",
              "    </tr>\n",
              "  </tbody>\n",
              "</table>\n",
              "<p>16 rows × 180 columns</p>\n",
              "</div>"
            ]
          },
          "metadata": {},
          "execution_count": 158
        }
      ],
      "source": [
        "print(f'\\nAudio samples represented: {features.shape[0]}')\n",
        "print(f'Numerical features extracted per sample: {features.shape[1]}')\n",
        "features_df = pd.DataFrame(features) # make it pretty for display\n",
        "\n",
        "\n",
        "#making dataframe for emotions as well\n",
        "emotions_df = pd.DataFrame(emotions) # make it pretty for display\n",
        "\n",
        "features_df"
      ]
    },
    {
      "cell_type": "markdown",
      "metadata": {
        "pycharm": {
          "name": "#%% md\n"
        },
        "id": "Tq083zLEL9hH"
      },
      "source": [
        "We have a matrix of dim 1435 x 180. Looks good - 1435 audio samples, one per row, with a series of\n",
        "180 numerical features for each sample.\n",
        "\n",
        "**Each of the 1435 feature arrays has 180 features composed of 12 chromagram pitch classes + 128 mel spectrogram bands + 40 MFC coefficients.**"
      ]
    },
    {
      "cell_type": "markdown",
      "source": [
        "Now we will save our features matrix and emotions array in excel file we dont have to compute them everytime we run the notebook, we can just load them from the excel file whenever required. Make sure to change the path to according to your drive."
      ],
      "metadata": {
        "id": "VF2SggHTDqbQ"
      }
    },
    {
      "cell_type": "code",
      "source": [
        "features_df.to_csv(\"Desktop/iat_360/featuresRavdess.csv\")\n",
        "emotions_df.to_csv(\"Desktop/iat_360/emotionsRavdess.csv\")\n"
      ],
      "metadata": {
        "id": "u6H8hc6gDtbp"
      },
      "execution_count": 119,
      "outputs": []
    },
    {
      "cell_type": "markdown",
      "source": [
        "**for my audio own audio files I made**"
      ],
      "metadata": {
        "id": "esoHBVrtWe3m"
      }
    },
    {
      "cell_type": "code",
      "source": [
        "features_df.to_csv(\"Desktop/iat_360/myAudioFeatures.csv\")\n",
        "emotions_df.to_csv(\"Desktop/iat_360/myAudioEmotions.csv\")"
      ],
      "metadata": {
        "id": "7YkFu18AWdcl"
      },
      "execution_count": null,
      "outputs": []
    },
    {
      "cell_type": "markdown",
      "source": [
        "## Load pre-saved Dataset"
      ],
      "metadata": {
        "id": "VpE5m-5aEyoB"
      }
    },
    {
      "cell_type": "markdown",
      "source": [
        "Once saved you only need to load them later by running the cell below, and **skip every cell above** except for the one in which we import libraries."
      ],
      "metadata": {
        "id": "hHPB7dCqEotR"
      }
    },
    {
      "cell_type": "code",
      "source": [
        "features=pd.read_csv(\"Desktop/iat_360/featuresRavdess.csv\",index_col=0)\n",
        "emotions=pd.read_csv(\"Desktop/iat_360/emotionsRavdess.csv\",index_col=0)"
      ],
      "metadata": {
        "id": "-8nlJCESEn56"
      },
      "execution_count": 192,
      "outputs": []
    },
    {
      "cell_type": "markdown",
      "source": [
        "**for loading my audio own audio files I made**"
      ],
      "metadata": {
        "id": "GBzQiPijWQ_P"
      }
    },
    {
      "cell_type": "code",
      "source": [
        "features=pd.read_csv(\"Desktop/iat_360/myAudioFeatures.csv\",index_col=0)\n",
        "emotions=pd.read_csv(\"Desktop/iat_360/myAudioEmotions.csv\",index_col=0)"
      ],
      "metadata": {
        "id": "YWUlSuynWVOr"
      },
      "execution_count": 202,
      "outputs": []
    },
    {
      "cell_type": "markdown",
      "source": [
        "let's see if they have been loaded correctly!"
      ],
      "metadata": {
        "id": "4x2dXjybD1NM"
      }
    },
    {
      "cell_type": "code",
      "source": [
        "emotions.head() #I added this just to see it"
      ],
      "metadata": {
        "id": "qgwMkkM37EoD",
        "colab": {
          "base_uri": "https://localhost:8080/",
          "height": 206
        },
        "outputId": "d8630a23-ff5c-4dd6-d15a-dc43b042aa40"
      },
      "execution_count": 203,
      "outputs": [
        {
          "output_type": "execute_result",
          "data": {
            "text/plain": [
              "           0\n",
              "0  surprised\n",
              "1      angry\n",
              "2    disgust\n",
              "3        sad\n",
              "4      happy"
            ],
            "text/html": [
              "<div>\n",
              "<style scoped>\n",
              "    .dataframe tbody tr th:only-of-type {\n",
              "        vertical-align: middle;\n",
              "    }\n",
              "\n",
              "    .dataframe tbody tr th {\n",
              "        vertical-align: top;\n",
              "    }\n",
              "\n",
              "    .dataframe thead th {\n",
              "        text-align: right;\n",
              "    }\n",
              "</style>\n",
              "<table border=\"1\" class=\"dataframe\">\n",
              "  <thead>\n",
              "    <tr style=\"text-align: right;\">\n",
              "      <th></th>\n",
              "      <th>0</th>\n",
              "    </tr>\n",
              "  </thead>\n",
              "  <tbody>\n",
              "    <tr>\n",
              "      <th>0</th>\n",
              "      <td>surprised</td>\n",
              "    </tr>\n",
              "    <tr>\n",
              "      <th>1</th>\n",
              "      <td>angry</td>\n",
              "    </tr>\n",
              "    <tr>\n",
              "      <th>2</th>\n",
              "      <td>disgust</td>\n",
              "    </tr>\n",
              "    <tr>\n",
              "      <th>3</th>\n",
              "      <td>sad</td>\n",
              "    </tr>\n",
              "    <tr>\n",
              "      <th>4</th>\n",
              "      <td>happy</td>\n",
              "    </tr>\n",
              "  </tbody>\n",
              "</table>\n",
              "</div>"
            ]
          },
          "metadata": {},
          "execution_count": 203
        }
      ]
    },
    {
      "cell_type": "code",
      "source": [
        "features.head()"
      ],
      "metadata": {
        "id": "B5Xo1SVMD0qR",
        "outputId": "c68de0ca-d1e1-44df-bc9c-661dab82132f",
        "colab": {
          "base_uri": "https://localhost:8080/",
          "height": 235
        }
      },
      "execution_count": 204,
      "outputs": [
        {
          "output_type": "execute_result",
          "data": {
            "text/plain": [
              "          0         1         2         3         4         5         6  \\\n",
              "0  0.686256  0.750804  0.734328  0.735672  0.707263  0.692917  0.701380   \n",
              "1  0.566436  0.579590  0.691311  0.777017  0.623231  0.577237  0.600158   \n",
              "2  0.775012  0.801304  0.787155  0.803958  0.801701  0.748247  0.716731   \n",
              "3  0.761638  0.686427  0.604778  0.592464  0.609953  0.631393  0.596203   \n",
              "4  0.662464  0.679047  0.752552  0.800666  0.743129  0.698429  0.739090   \n",
              "\n",
              "          7         8         9  ...       170       171       172       173  \\\n",
              "0  0.655903  0.669952  0.641498  ... -1.406514  0.143974 -0.858707 -1.247057   \n",
              "1  0.573471  0.541835  0.429390  ... -8.576233 -3.207134 -5.266016 -8.475245   \n",
              "2  0.680019  0.689730  0.723360  ... -1.571157 -1.894101 -2.682918 -1.346464   \n",
              "3  0.541197  0.543607  0.598140  ... -2.501032 -2.375164 -5.271877 -4.489208   \n",
              "4  0.771906  0.736974  0.680864  ... -1.918805 -1.448219 -4.868976  0.390227   \n",
              "\n",
              "        174       175       176       177       178       179  \n",
              "0 -0.129364 -3.092327 -1.895999 -0.217100 -2.513788 -1.853577  \n",
              "1 -6.493635 -5.210080 -3.966235 -2.607194  2.058663  4.444919  \n",
              "2 -0.532834 -3.768876 -1.553765 -0.932499 -1.533505 -0.857808  \n",
              "3 -1.601743 -2.792167 -7.056908 -2.624687 -3.336041 -4.870374  \n",
              "4 -2.403893 -4.205048 -4.987683 -3.643880 -3.688146 -0.887613  \n",
              "\n",
              "[5 rows x 180 columns]"
            ],
            "text/html": [
              "<div>\n",
              "<style scoped>\n",
              "    .dataframe tbody tr th:only-of-type {\n",
              "        vertical-align: middle;\n",
              "    }\n",
              "\n",
              "    .dataframe tbody tr th {\n",
              "        vertical-align: top;\n",
              "    }\n",
              "\n",
              "    .dataframe thead th {\n",
              "        text-align: right;\n",
              "    }\n",
              "</style>\n",
              "<table border=\"1\" class=\"dataframe\">\n",
              "  <thead>\n",
              "    <tr style=\"text-align: right;\">\n",
              "      <th></th>\n",
              "      <th>0</th>\n",
              "      <th>1</th>\n",
              "      <th>2</th>\n",
              "      <th>3</th>\n",
              "      <th>4</th>\n",
              "      <th>5</th>\n",
              "      <th>6</th>\n",
              "      <th>7</th>\n",
              "      <th>8</th>\n",
              "      <th>9</th>\n",
              "      <th>...</th>\n",
              "      <th>170</th>\n",
              "      <th>171</th>\n",
              "      <th>172</th>\n",
              "      <th>173</th>\n",
              "      <th>174</th>\n",
              "      <th>175</th>\n",
              "      <th>176</th>\n",
              "      <th>177</th>\n",
              "      <th>178</th>\n",
              "      <th>179</th>\n",
              "    </tr>\n",
              "  </thead>\n",
              "  <tbody>\n",
              "    <tr>\n",
              "      <th>0</th>\n",
              "      <td>0.686256</td>\n",
              "      <td>0.750804</td>\n",
              "      <td>0.734328</td>\n",
              "      <td>0.735672</td>\n",
              "      <td>0.707263</td>\n",
              "      <td>0.692917</td>\n",
              "      <td>0.701380</td>\n",
              "      <td>0.655903</td>\n",
              "      <td>0.669952</td>\n",
              "      <td>0.641498</td>\n",
              "      <td>...</td>\n",
              "      <td>-1.406514</td>\n",
              "      <td>0.143974</td>\n",
              "      <td>-0.858707</td>\n",
              "      <td>-1.247057</td>\n",
              "      <td>-0.129364</td>\n",
              "      <td>-3.092327</td>\n",
              "      <td>-1.895999</td>\n",
              "      <td>-0.217100</td>\n",
              "      <td>-2.513788</td>\n",
              "      <td>-1.853577</td>\n",
              "    </tr>\n",
              "    <tr>\n",
              "      <th>1</th>\n",
              "      <td>0.566436</td>\n",
              "      <td>0.579590</td>\n",
              "      <td>0.691311</td>\n",
              "      <td>0.777017</td>\n",
              "      <td>0.623231</td>\n",
              "      <td>0.577237</td>\n",
              "      <td>0.600158</td>\n",
              "      <td>0.573471</td>\n",
              "      <td>0.541835</td>\n",
              "      <td>0.429390</td>\n",
              "      <td>...</td>\n",
              "      <td>-8.576233</td>\n",
              "      <td>-3.207134</td>\n",
              "      <td>-5.266016</td>\n",
              "      <td>-8.475245</td>\n",
              "      <td>-6.493635</td>\n",
              "      <td>-5.210080</td>\n",
              "      <td>-3.966235</td>\n",
              "      <td>-2.607194</td>\n",
              "      <td>2.058663</td>\n",
              "      <td>4.444919</td>\n",
              "    </tr>\n",
              "    <tr>\n",
              "      <th>2</th>\n",
              "      <td>0.775012</td>\n",
              "      <td>0.801304</td>\n",
              "      <td>0.787155</td>\n",
              "      <td>0.803958</td>\n",
              "      <td>0.801701</td>\n",
              "      <td>0.748247</td>\n",
              "      <td>0.716731</td>\n",
              "      <td>0.680019</td>\n",
              "      <td>0.689730</td>\n",
              "      <td>0.723360</td>\n",
              "      <td>...</td>\n",
              "      <td>-1.571157</td>\n",
              "      <td>-1.894101</td>\n",
              "      <td>-2.682918</td>\n",
              "      <td>-1.346464</td>\n",
              "      <td>-0.532834</td>\n",
              "      <td>-3.768876</td>\n",
              "      <td>-1.553765</td>\n",
              "      <td>-0.932499</td>\n",
              "      <td>-1.533505</td>\n",
              "      <td>-0.857808</td>\n",
              "    </tr>\n",
              "    <tr>\n",
              "      <th>3</th>\n",
              "      <td>0.761638</td>\n",
              "      <td>0.686427</td>\n",
              "      <td>0.604778</td>\n",
              "      <td>0.592464</td>\n",
              "      <td>0.609953</td>\n",
              "      <td>0.631393</td>\n",
              "      <td>0.596203</td>\n",
              "      <td>0.541197</td>\n",
              "      <td>0.543607</td>\n",
              "      <td>0.598140</td>\n",
              "      <td>...</td>\n",
              "      <td>-2.501032</td>\n",
              "      <td>-2.375164</td>\n",
              "      <td>-5.271877</td>\n",
              "      <td>-4.489208</td>\n",
              "      <td>-1.601743</td>\n",
              "      <td>-2.792167</td>\n",
              "      <td>-7.056908</td>\n",
              "      <td>-2.624687</td>\n",
              "      <td>-3.336041</td>\n",
              "      <td>-4.870374</td>\n",
              "    </tr>\n",
              "    <tr>\n",
              "      <th>4</th>\n",
              "      <td>0.662464</td>\n",
              "      <td>0.679047</td>\n",
              "      <td>0.752552</td>\n",
              "      <td>0.800666</td>\n",
              "      <td>0.743129</td>\n",
              "      <td>0.698429</td>\n",
              "      <td>0.739090</td>\n",
              "      <td>0.771906</td>\n",
              "      <td>0.736974</td>\n",
              "      <td>0.680864</td>\n",
              "      <td>...</td>\n",
              "      <td>-1.918805</td>\n",
              "      <td>-1.448219</td>\n",
              "      <td>-4.868976</td>\n",
              "      <td>0.390227</td>\n",
              "      <td>-2.403893</td>\n",
              "      <td>-4.205048</td>\n",
              "      <td>-4.987683</td>\n",
              "      <td>-3.643880</td>\n",
              "      <td>-3.688146</td>\n",
              "      <td>-0.887613</td>\n",
              "    </tr>\n",
              "  </tbody>\n",
              "</table>\n",
              "<p>5 rows × 180 columns</p>\n",
              "</div>"
            ]
          },
          "metadata": {},
          "execution_count": 204
        }
      ]
    },
    {
      "cell_type": "markdown",
      "metadata": {
        "id": "esInVDq7L9hT"
      },
      "source": [
        "Let's see the class balance of our dataset:"
      ]
    },
    {
      "cell_type": "code",
      "execution_count": 205,
      "metadata": {
        "id": "Si3OFQe7L9hU",
        "outputId": "ef0c07e8-3cf5-461f-bb50-c4c178075ace",
        "colab": {
          "base_uri": "https://localhost:8080/",
          "height": 397
        }
      },
      "outputs": [
        {
          "output_type": "display_data",
          "data": {
            "text/plain": [
              "<Figure size 3500x400 with 1 Axes>"
            ],
            "image/png": "[encoded data removed]"
          },
          "metadata": {}
        }
      ],
      "source": [
        "# plot emotions\n",
        "plt.figure(figsize=(35,4))\n",
        "plt.subplot(1,3,1)\n",
        "#np.unique returns ordered list of unique elements and count of each element\n",
        "emotion_list, count = np.unique(emotions, return_counts=True)\n",
        "plt.bar(x=range(8), height=count)\n",
        "plt.xticks(ticks=range(8), labels = [emotion for emotion in emotion_list],fontsize=10)\n",
        "plt.xlabel('Emotion')\n",
        "plt.tick_params(labelsize=16)\n",
        "plt.ylabel('Number of Samples')\n",
        "plt.show()"
      ]
    },
    {
      "cell_type": "markdown",
      "metadata": {
        "id": "Mw_wKC8WL9hV"
      },
      "source": [
        "**Great, the classes appear to be balanced. That makes the task easier.** All emotions _except_ the neutral class have a \"strong\" intensity so there are half as many neutral samples. That might have an impact."
      ]
    },
    {
      "cell_type": "markdown",
      "metadata": {
        "id": "WhtlYshOL9hV"
      },
      "source": [
        "### Feature Scaling\n",
        "To properly train most machine learning models on _most_ datasets, we first need to scale our features. **This is crucial for models which compute distances between data, and especially critical for DNNs**: If there is a difference in the variance of features simply because of their possible range of values, then a model will learn that the features with the greatest variance are the most important. However, **differences in the variance of unscaled features belonging to different and unknown distributions is an inappropriate measure of importance.** Let's check our features' properties:"
      ]
    },
    {
      "cell_type": "code",
      "execution_count": 206,
      "metadata": {
        "id": "_IUm1DLwL9hW",
        "outputId": "5b9b82bd-dbb4-49dd-b071-711213e116fd",
        "colab": {
          "base_uri": "https://localhost:8080/"
        }
      },
      "outputs": [
        {
          "output_type": "stream",
          "name": "stdout",
          "text": [
            "12 Chromagram features:           min = 0.410,     max = 0.821,     mean = 0.710,     deviation = 0.069\n",
            "\n",
            "128 Mel Spectrogram features:     min = 0.000,     max = 13.690,     mean = 0.128,     deviation = 0.648\n",
            "\n",
            "40 MFCC features:                 min = -663.619,    max = 159.668,    mean = -12.055,    deviation = 96.243\n"
          ]
        }
      ],
      "source": [
        "# We would usually use df.describe(), but it provides a bit of a mess of information we don't need at the moment.\n",
        "def print_features(df):\n",
        "    # Check chromagram feature values\n",
        "    features_df_chromagram = df.loc[:,:11]\n",
        "    chroma_min = features_df_chromagram.min().min()\n",
        "    chroma_max = features_df_chromagram.max().max()\n",
        "    # stack all features into a single series so we don't get a mean of means or stdev of stdevs\n",
        "    chroma_mean = features_df_chromagram.stack().mean()\n",
        "    chroma_stdev = features_df_chromagram.stack().std()\n",
        "    print(f'12 Chromagram features:       \\\n",
        "    min = {chroma_min:.3f}, \\\n",
        "    max = {chroma_max:.3f}, \\\n",
        "    mean = {chroma_mean:.3f}, \\\n",
        "    deviation = {chroma_stdev:.3f}')\n",
        "\n",
        "    # Check mel spectrogram feature values\n",
        "    features_df_melspectrogram = df.loc[:,12:139]\n",
        "    mel_min = features_df_melspectrogram.min().min()\n",
        "    mel_max = features_df_melspectrogram.max().max()\n",
        "    # stack all features into a single series so we don't get a mean of means or stdev of stdevs\n",
        "    mel_mean = features_df_melspectrogram.stack().mean()\n",
        "    mel_stdev = features_df_melspectrogram.stack().std()\n",
        "    print(f'\\n128 Mel Spectrogram features: \\\n",
        "    min = {mel_min:.3f}, \\\n",
        "    max = {mel_max:.3f}, \\\n",
        "    mean = {mel_mean:.3f}, \\\n",
        "    deviation = {mel_stdev:.3f}')\n",
        "\n",
        "    # Check MFCC feature values\n",
        "    features_df_mfcc = df.loc[:,140:179]\n",
        "    mfcc_min = features_df_mfcc.min().min()\n",
        "    mfcc_max = features_df_mfcc.max().max()\n",
        "    # stack all features into a single series so we don't get a mean of means or stdev of stdevs\n",
        "    mfcc_mean = features_df_mfcc.stack().mean()\n",
        "    mfcc_stdev = features_df_mfcc.stack().std()\n",
        "    print(f'\\n40 MFCC features:             \\\n",
        "    min = {mfcc_min:.3f},\\\n",
        "    max = {mfcc_max:.3f},\\\n",
        "    mean = {mfcc_mean:.3f},\\\n",
        "    deviation = {mfcc_stdev:.3f}')\n",
        "\n",
        "print_features(features_df)"
      ]
    },
    {
      "cell_type": "code",
      "source": [],
      "metadata": {
        "id": "3ha1FxBSCpqA"
      },
      "execution_count": null,
      "outputs": []
    },
    {
      "cell_type": "markdown",
      "metadata": {
        "id": "gFgQlYSlL9hW"
      },
      "source": [
        "**There's an obvious imbalance in the variance our features; Our features indeed belong to very different distributions:** our MFC coefficients' deviation is greater than the other features by orders of magnitude. That does not mean MFC coefficients are the most important feature, but rather it is a property of the way they are computed.  We will certainly need to scale this feature set.\n",
        "\n",
        "We have the choice of sklearn's StandardScaler and MinMaxScaler. Standard scaling subtracts the mean of each feature and divides it by the standard deviation of that feature, producing features with mean at zero and unit variance - that is, a variance and standard deviation of 1. Min-Max scaling transforms each feature to be within a bounded interval that we specify.\n",
        "\n",
        "In practice, **MinMax scaling is especially useful when we know our features should be in a bounded interval**, such as pixel values in [0,255], while **standard scaling is perhaps more practical for features with unknown distributions** because centering the features at zero-mean with a standard deviation of 1 means extreme values will have less of an impact on the model's learned weights, i.e. the model is less sensitive to outliers.\n",
        "\n",
        "We'll create MinMax scaled features as well so we can give them a try later on to confirm that standard scaling is better in the absence of knowledge on the appropriate distribution for a dataset's features."
      ]
    },
    {
      "cell_type": "code",
      "execution_count": 207,
      "metadata": {
        "id": "_BCAYVEUL9hW"
      },
      "outputs": [],
      "source": [
        "from sklearn.preprocessing import StandardScaler\n",
        "from sklearn.preprocessing import MinMaxScaler\n",
        "\n",
        "scaler = StandardScaler()\n",
        "# keep our unscaled features just in case we need to process them alternatively\n",
        "features_scaled = features\n",
        "features_scaled = scaler.fit_transform(features_scaled)\n",
        "\n",
        "scaler = MinMaxScaler()\n",
        "# keep our unscaled features just in case we need to process them alternatively\n",
        "features_minmax = features\n",
        "features_minmax = scaler.fit_transform(features_minmax)"
      ]
    },
    {
      "cell_type": "markdown",
      "metadata": {
        "id": "r4ATx5oNL9hX"
      },
      "source": [
        "Make sure our features are properly scaled:"
      ]
    },
    {
      "cell_type": "code",
      "execution_count": 208,
      "metadata": {
        "id": "mlRuHQkKL9hX",
        "outputId": "33dda2a5-b5b2-42f6-ffd9-2a52cf7da8b0",
        "colab": {
          "base_uri": "https://localhost:8080/"
        }
      },
      "outputs": [
        {
          "output_type": "stream",
          "name": "stdout",
          "text": [
            "\u001b[1mStandard Scaling:\n",
            "\u001b[0m\n",
            "12 Chromagram features:           min = -3.283,     max = 1.685,     mean = 0.000,     deviation = 1.003\n",
            "\n",
            "128 Mel Spectrogram features:     min = -1.496,     max = 3.872,     mean = 0.000,     deviation = 1.000\n",
            "\n",
            "40 MFCC features:                 min = -3.408,    max = 3.135,    mean = -0.000,    deviation = 1.001\n",
            "\n",
            "\n",
            "\u001b[1mMinMax Scaling:\n",
            "\u001b[0m\n",
            "12 Chromagram features:           min = 0.000,     max = 1.000,     mean = 0.654,     deviation = 0.274\n",
            "\n",
            "128 Mel Spectrogram features:     min = 0.000,     max = 1.000,     mean = 0.129,     deviation = 0.268\n",
            "\n",
            "40 MFCC features:                 min = 0.000,    max = 1.000,    mean = 0.554,    deviation = 0.280\n"
          ]
        }
      ],
      "source": [
        "print('\\033[1m'+'Standard Scaling:\\n'+'\\033[0m')\n",
        "features_scaled_df = pd.DataFrame(features_scaled)\n",
        "print_features(features_scaled_df)\n",
        "\n",
        "print('\\n\\n\\033[1m'+'MinMax Scaling:\\n'+'\\033[0m')\n",
        "features_minmax_df = pd.DataFrame(features_minmax)\n",
        "print_features(features_minmax_df)"
      ]
    },
    {
      "cell_type": "markdown",
      "metadata": {
        "id": "vZfzIh7DL9hX"
      },
      "source": [
        "Perfect. Zero mean and unit variance for standard scaling and in the range [0,1] for MinMax scaling - a default when we don't specify values. We can now move on to building predictive models for these features."
      ]
    },
    {
      "cell_type": "markdown",
      "metadata": {
        "id": "z5tXewLEL9hX"
      },
      "source": [
        "## Classical Machine Learning Models\n",
        "\n",
        "\n",
        "Classical machine learning models encompass a broad range of algorithms that have been foundational to the field's development and are still widely used for various predictive tasks. These models can be broadly categorized into supervised and unsupervised learning methods, each suited for different kinds of data and objectives.\n",
        "\n",
        "We will be looking into few popular Machine Learning Algorithms such as Support Vector Machine(SVM), K-Nearest Neighbors and Random Forest Classifier. There are many other classical models with their own strengths and weaknesses, and the choice of model depends on the specific requirements of the task, including the nature of the data, the complexity of the problem, and the computational efficiency required. Despite the rise of deep learning, classical machine learning models remain vital tools in a data scientist's arsenal due to their efficiency, interpretability, and strong performance in many scenarios.\n",
        "\n",
        "The use of classic machine learning method is due to the small size of our dataset; Some of the most robust models such as Support vector (machine) classifiers **(SVC) and k-Nearest-Neighbour classifiers (kNN) are particularly suited to smaller datasets and fall apart with huge datasets.**\n"
      ]
    },
    {
      "cell_type": "markdown",
      "metadata": {
        "id": "jwU-jXSGL9hY"
      },
      "source": [
        "### Training: The 80/20 Split and Validation\n",
        "In order to compare models, we'll have to evaluate their performance. The simplest method to do so is to train a model on a portion of our dataset and test it on the remainder. We'll use sklearn's train_test_split to create a standard 80/20 train/test split. The model is fit on 80% of\n",
        "the data and tested for performance against 20% of the data, which it has never seen in training - also called the hold-out set.\n",
        " <img src=\"https://github.com/IAT-ExploringAI-2024/Week3-Machine_Learning/blob/main/images/Capture2.PNG?raw=true\" width=\"800\">\n",
        "\n",
        "More accurately, the proper modality for training and scoring a model is to\n",
        "1. Fit/train our model on a _training_ set,\n",
        "2. Evaluate the model on a _validation_ set to tune the hyperparameters for better performance,\n",
        "3. Finally score our model's true performance - its **generalizability** - against a _test_ set, aka the hold-out set.\n",
        "4. Repeat from 2. **Do not tune the model to score well on the test set**. Only evaluate on test-set once.\n",
        "\n",
        "Different set ratios are used in this approach - a usual example is 60/20/20 train/validation/test.For simplicity, we're going to start with an 80/20 train/test split. The model will be trained on all the training data, and we will check its performance on the test data. We'll skip validation for now.\n",
        "\n",
        " <img src=\"https://github.com/IAT-ExploringAI-2024/Week3-ClassicML/blob/main/images/traintestsplit.PNG?raw=true\" width=\"800\">\n",
        "\n",
        "Define unscaled and scaled training and test sets:"
      ]
    },
    {
      "cell_type": "code",
      "execution_count": 209,
      "metadata": {
        "id": "8jGN4ROVL9hY"
      },
      "outputs": [],
      "source": [
        "from sklearn.model_selection import train_test_split\n",
        "\n",
        "\n",
        "############# Unscaled test/train set #############\n",
        "X_train, X_test, y_train, y_test =train_test_split(\n",
        "    features,\n",
        "    emotions,\n",
        "    test_size=0.2,\n",
        "    random_state=42\n",
        ")\n",
        "\n",
        "############ Standard Scaled test/train set ###########\n",
        "# The labels/classes (y_train, y_test) never change, keep old values\n",
        "X_train_scaled, X_test_scaled, _, _ = train_test_split(\n",
        "    features_scaled,\n",
        "    emotions,\n",
        "    test_size=0.2,\n",
        "    random_state=42\n",
        ")\n",
        "\n",
        "############# MinMax Scaled test/train set ###############\n",
        "# The labels/classes (y_train, y_test) never change, keep old values\n",
        "X_train_minmax, X_test_minmax, _, _ = train_test_split(\n",
        "    features_scaled,\n",
        "    emotions,\n",
        "    test_size=0.2,\n",
        "    random_state=42\n",
        ")"
      ]
    },
    {
      "cell_type": "markdown",
      "metadata": {
        "id": "Q3Mh0RrEL9hY"
      },
      "source": [
        "### Comparing Models\n",
        "We'll try each off-the-shelf machine learning model from sklearn and pick a few to explore, since these models will train near instantly on this dataset."
      ]
    },
    {
      "cell_type": "code",
      "execution_count": 215,
      "metadata": {
        "scrolled": true,
        "id": "iLPeyR7vL9he",
        "outputId": "9e9eb3b1-9551-48eb-91c3-6444257322f2",
        "colab": {
          "base_uri": "https://localhost:8080/",
          "height": 268
        }
      },
      "outputs": [
        {
          "output_type": "execute_result",
          "data": {
            "text/plain": [
              "               Classifier Accuracy Score\n",
              "0    KNeighborsClassifier         25.00%\n",
              "3  DecisionTreeClassifier         25.00%\n",
              "5      AdaBoostClassifier         25.00%\n",
              "1                     SVC          0.00%\n",
              "2          SVC RBF kernel          0.00%\n",
              "4  RandomForestClassifier          0.00%\n",
              "6              GaussianNB          0.00%"
            ],
            "text/html": [
              "<div>\n",
              "<style scoped>\n",
              "    .dataframe tbody tr th:only-of-type {\n",
              "        vertical-align: middle;\n",
              "    }\n",
              "\n",
              "    .dataframe tbody tr th {\n",
              "        vertical-align: top;\n",
              "    }\n",
              "\n",
              "    .dataframe thead th {\n",
              "        text-align: right;\n",
              "    }\n",
              "</style>\n",
              "<table border=\"1\" class=\"dataframe\">\n",
              "  <thead>\n",
              "    <tr style=\"text-align: right;\">\n",
              "      <th></th>\n",
              "      <th>Classifier</th>\n",
              "      <th>Accuracy Score</th>\n",
              "    </tr>\n",
              "  </thead>\n",
              "  <tbody>\n",
              "    <tr>\n",
              "      <th>0</th>\n",
              "      <td>KNeighborsClassifier</td>\n",
              "      <td>25.00%</td>\n",
              "    </tr>\n",
              "    <tr>\n",
              "      <th>3</th>\n",
              "      <td>DecisionTreeClassifier</td>\n",
              "      <td>25.00%</td>\n",
              "    </tr>\n",
              "    <tr>\n",
              "      <th>5</th>\n",
              "      <td>AdaBoostClassifier</td>\n",
              "      <td>25.00%</td>\n",
              "    </tr>\n",
              "    <tr>\n",
              "      <th>1</th>\n",
              "      <td>SVC</td>\n",
              "      <td>0.00%</td>\n",
              "    </tr>\n",
              "    <tr>\n",
              "      <th>2</th>\n",
              "      <td>SVC RBF kernel</td>\n",
              "      <td>0.00%</td>\n",
              "    </tr>\n",
              "    <tr>\n",
              "      <th>4</th>\n",
              "      <td>RandomForestClassifier</td>\n",
              "      <td>0.00%</td>\n",
              "    </tr>\n",
              "    <tr>\n",
              "      <th>6</th>\n",
              "      <td>GaussianNB</td>\n",
              "      <td>0.00%</td>\n",
              "    </tr>\n",
              "  </tbody>\n",
              "</table>\n",
              "</div>"
            ]
          },
          "metadata": {},
          "execution_count": 215
        }
      ],
      "source": [
        "from sklearn.neighbors import KNeighborsClassifier\n",
        "from sklearn.svm import SVC\n",
        "from sklearn.tree import DecisionTreeClassifier\n",
        "from sklearn.ensemble import RandomForestClassifier, AdaBoostClassifier\n",
        "from sklearn.naive_bayes import GaussianNB\n",
        "from sklearn.discriminant_analysis import QuadraticDiscriminantAnalysis\n",
        "\n",
        "classification_models = [\n",
        "    KNeighborsClassifier(),#(3),\n",
        "    SVC(kernel='linear'),#, C=0.025),\n",
        "    SVC(kernel='rbf'),\n",
        "    DecisionTreeClassifier(),#max_depth=5),\n",
        "    RandomForestClassifier(),#max_depth=5, n_estimators=10, max_features=1),\n",
        "    AdaBoostClassifier(),\n",
        "    GaussianNB(),\n",
        "    #QuadraticDiscriminantAnalysis() #by commenting this line out, i was able to run the code I believe this is due to the small size of my dataset\n",
        "    ]\n",
        "\n",
        "scores = []\n",
        "score_on_my_data = []\n",
        "# Fit and score each model\n",
        "for model in classification_models:\n",
        "    model.fit(X_train_scaled, y_train)\n",
        "    score = model.score(X_test_scaled, y_test)\n",
        "   # score_on_my_data.append(model.score(my_data_features,my_data_emotions))\n",
        "    model_name = type(model).__name__\n",
        "    if model_name=='SVC' and model.kernel=='rbf': model_name+=' RBF kernel'\n",
        "    scores.append((model_name,(f'{100*score:.2f}%')))\n",
        "# Make it pretty\n",
        "scores_df = pd.DataFrame(scores,columns=['Classifier','Accuracy Score'])\n",
        "scores_df.sort_values(by='Accuracy Score',axis=0,ascending=False)"
      ]
    },
    {
      "cell_type": "markdown",
      "metadata": {
        "id": "JrD98CpPL9he"
      },
      "source": [
        "Let's pick the top three - Random Forests, SVC, and kNN - and take a closer look at each of them."
      ]
    },
    {
      "cell_type": "markdown",
      "metadata": {
        "id": "4dBNoEolL9hf"
      },
      "source": [
        "### The Support Vector Machine Classifier\n",
        "\n",
        "We'll go in chronological order. First is the support vector machine classifier (SVC) - a model from the 60s. SVMs are models quick to train for this task and best suited to small datasets due to its quadratic time complexity w.r.t. size of the training dataset (# of training samples). This is also the reason it breaks down with larger datasets since it becomes very expensive to train.\n",
        "\n",
        "The idea behind SVMs on which the SVC model is based is to find a separating hyperplane - a subspace with dimension one less than that of the feature space - for points in our feature space; i.e. for a 3D space, a hyperplane is a regular plane, in 2D, a line. This idea extends to n dimensions. If points are separable by a hyperplane, they are said to be linearly separable. **Since there are infinite possible separating hyperplanes for any linearly separable feature space, an SVM computes which points are closest to each such hyperplane and uses them to construct a _support vector_. The SVM picks the hyperplane which maximizes the distance - _margin_ - to each support vector.** In this way, we maximize the separating ability of the chosen hyperplane.\n",
        "\n",
        "The core of SVMs is the kernel. We could map all new points from our input space, where they were not separable by a hyperplane, to a higher dimension in which we have found a hyperplane to separate the points in that space. However, that would be extremely computationally expensive for data that needs to be mapped to much higher dimensions. Instead, we **compute the hyperplane in the higher dimension on our training data and map the hyperplane back to the lower-dimension input space to use for classifying our data. This is the _kernel trick_, whereby the kernel (function) enables us to compute distances to new points in the input space without transforming each to the higher dimensional space - drastically reducing the computational complexity of the SVM.**\n",
        "\n",
        " <img src=\"https://github.com/IAT-ExploringAI-2024/Week3-Machine_Learning/blob/main/images/kernel1.png?raw=true\" width=\"800\">"
      ]
    },
    {
      "cell_type": "markdown",
      "metadata": {
        "id": "r-VTE6HjL9hf"
      },
      "source": [
        "A linear kernel should always be tested because **a linear kernel is much faster to train than a non-linear kernel**; however, properly tuned, a non-linear kernel often provides the best possible predictive performance. **RBF (radial basis function) is a good default to use for a non-linear kernel** and often is the best non-linear kernel because it usually provides a higher accuracy compared to other non-linear kernels at the cost of higher computational complexity. We can afford to try the RBF kernel because our dataset is small.\n",
        "\n",
        "If you want to explore further please have a look at [this article](https://www.analyticsvidhya.com/blog/2021/10/support-vector-machinessvm-a-complete-guide-for-beginners/)"
      ]
    },
    {
      "cell_type": "code",
      "execution_count": 216,
      "metadata": {
        "id": "ruBbt50ML9hf",
        "outputId": "189194cd-ec9b-4dbf-e87d-ee9acde9ee1c",
        "colab": {
          "base_uri": "https://localhost:8080/"
        }
      },
      "outputs": [
        {
          "output_type": "stream",
          "name": "stdout",
          "text": [
            "SVC Model's accuracy on training set is 100.00%\n",
            "SVC Model's accuracy on test set is 0.00%\n"
          ]
        }
      ],
      "source": [
        "from sklearn.svm import SVC\n",
        "\n",
        "model = SVC(\n",
        "    C=10,  #higher the value tighter the margin\n",
        "    gamma='auto',\n",
        "    kernel='rbf',\n",
        "    random_state=42\n",
        ")\n",
        "\n",
        "model.fit(X_train, y_train)\n",
        "\n",
        "print(f'SVC Model\\'s accuracy on training set is {100*model.score(X_train, y_train):.2f}%')\n",
        "print(f'SVC Model\\'s accuracy on test set is {100*model.score(X_test, y_test):.2f}%')"
      ]
    },
    {
      "cell_type": "markdown",
      "metadata": {
        "id": "PIm1a-tiL9hg"
      },
      "source": [
        "Not bad at all for the relatively simple SVC model. **Hyperparameter 𝐶 regulates the margin.** It might do well to optimize the SVC model further if we don't find a better one. As it stands, we are looking for considerably higher performance in this task.\n",
        "\n",
        "Check out [this link](https://towardsdatascience.com/visualizing-the-effect-of-hyperparameters-on-support-vector-machines-b9eef6f7357b) for visual representation of affect of changes in C and gamma."
      ]
    },
    {
      "cell_type": "markdown",
      "metadata": {
        "id": "j72LJRfCL9hg"
      },
      "source": [
        "### k Nearest Neighbours\n",
        "\n",
        "k Nearest Neighbours (kNN) is next in line, a tried-and-true machine learning method from the 70s. kNN makes a lot of intuitive sense: imagine plotting points on a graph and drawing gates around points that look like they belong to the same group. That's what it is - we **plot our training samples' features and compare a test sample's features' distance to all those points; then just take the _k_ closest points to the test sample and pick the most frequent label/class.** That's it.\n",
        "\n",
        "kNN is a great starting point for multiclass problems with small datasets, although on large dadtasets less reliable and extremely memory hungry (it stores all training sample points). kNN is also useful in that it makes **no assumptions about the underlying distribution of the data set - so kNNs work well for both linear and non-linear data.** In the 2D example:\n",
        "\n",
        "<img src=\"https://github.com/IAT-ExploringAI-2024/Week3-ClassicML/blob/main/images/knn.png?raw=true\" width=400 height=400 />"
      ]
    },
    {
      "cell_type": "code",
      "execution_count": 217,
      "metadata": {
        "id": "qaeCneMiL9hg",
        "outputId": "c2d6c3c0-bfc3-4bc8-cdfe-312cdd5eb4d2",
        "colab": {
          "base_uri": "https://localhost:8080/"
        }
      },
      "outputs": [
        {
          "output_type": "stream",
          "name": "stdout",
          "text": [
            "Default kNN Model's accuracy on training set is 33.33%\n",
            "Default kNN Model's accuracy on test set is 50.00%\n",
            "\n",
            "kNN Model's accuracy on training set is 100.00%\n",
            "kNN Model's accuracy on test set is 50.00%\n"
          ]
        }
      ],
      "source": [
        "from sklearn.neighbors import KNeighborsClassifier\n",
        "\n",
        "####### Default kNN  ########\n",
        "model = KNeighborsClassifier(\n",
        ")\n",
        "\n",
        "model.fit(X_train, y_train)\n",
        "\n",
        "print(f'Default kNN Model\\'s accuracy on training set is {100*model.score(X_train, y_train):.2f}%')\n",
        "print(f'Default kNN Model\\'s accuracy on test set is {100*model.score(X_test, y_test):.2f}%\\n')\n",
        "\n",
        "##### (hastily) tuned kNN ######\n",
        "model = KNeighborsClassifier(\n",
        "    n_neighbors = 5,\n",
        "    weights = 'distance',\n",
        "    algorithm = 'brute',\n",
        "    n_jobs=4\n",
        ")\n",
        "\n",
        "model.fit(X_train, y_train)\n",
        "\n",
        "print(f'kNN Model\\'s accuracy on training set is {100*model.score(X_train, y_train):.2f}%')\n",
        "print(f'kNN Model\\'s accuracy on test set is {100*model.score(X_test, y_test):.2f}%')"
      ]
    },
    {
      "cell_type": "markdown",
      "metadata": {
        "id": "BxVEKUyiL9hh"
      },
      "source": [
        "**The brute-force algorithm computes distances between all pairs of points in the training set; works especially well for small datasets** but wildly inefficient w.r.t. increasing samples and feature space dimension. Not bad for 2 minutes of work, but still not suitable for this task."
      ]
    },
    {
      "cell_type": "markdown",
      "metadata": {
        "id": "zvQ3av4cL9hh"
      },
      "source": [
        "### Random Forests\n",
        "Finally, and before resorting to deep learning methods, let's try a Random Forest -  a model from the 21st century (2001). **We train many distinct decision trees which are essentially directed acyclic graphs (DAGs), somewhat similar to a flow chart. The collection of (decision) trees makes up our Random Forest.**\n",
        "\n",
        "At each node of the tree we have a function (a rule) that evaluates whether the features of samples input to that node belong to one class or another. Each branch of the tree (or, edge of the graph) defines one of two possible results from a node, and each leaf is one of two decisions made by its parent node. **Each tree in the forest evaluates a random subset of the training samples' features and has a rule at each level of the tree that classifies based on these random features - hence, _Random_ Forest. This random selection of features makes Random Forests robust to outliers**, as such features will have less of an impact in the scope of the entire forest, most of whose trees operate on the \"real\" features.\n",
        "\n",
        "**Random Forests are excellent models to use as a benchmark due to their low time complexity to train and because it is an ensemble method, their robustness to unknown distributions and outliers in the dataset,** meaning Random Forests require relatively little exploratory analysis in both the data and training the model to get an idea of their performance in a task.\n",
        "\n",
        "<img src=\"https://github.com/IliaZenkov/sklearn-audio-classification/blob/master/img/randomforest.png?raw=true\" width=500 height=500 />"
      ]
    },
    {
      "cell_type": "code",
      "execution_count": 218,
      "metadata": {
        "id": "j9BWmcV9L9hh",
        "outputId": "4c03b8e0-c705-4264-c9e6-971ec2cffc6b",
        "colab": {
          "base_uri": "https://localhost:8080/"
        }
      },
      "outputs": [
        {
          "output_type": "stream",
          "name": "stdout",
          "text": [
            "Default Random Forest Model's accuracy on training set is 100.00%\n",
            "Default Random Forest Model's accuracy on test set is 25.00%\n",
            "\n",
            "Random Forest Model's accuracy on training set is 100.00%\n",
            "Random Forest Model's accuracy on test set is 0.00%\n"
          ]
        }
      ],
      "source": [
        "from sklearn.ensemble import RandomForestClassifier\n",
        "\n",
        "####### Default Random Forest ########\n",
        "model = RandomForestClassifier(\n",
        "    random_state=69\n",
        ")\n",
        "\n",
        "model.fit(X_train, y_train)\n",
        "\n",
        "print(f'Default Random Forest Model\\'s accuracy on training set is {100*model.score(X_train, y_train):.2f}%')\n",
        "print(f'Default Random Forest Model\\'s accuracy on test set is {100*model.score(X_test, y_test):.2f}%\\n')\n",
        "\n",
        "\n",
        "########## Tuned Random Forest #######\n",
        "model = RandomForestClassifier(\n",
        "    n_estimators = 500,\n",
        "    criterion ='entropy',\n",
        "    warm_start = True,\n",
        "    max_features = 'sqrt',\n",
        "    oob_score = True, # more on this below\n",
        "    random_state=42\n",
        ")\n",
        "\n",
        "model.fit(X_train, y_train)\n",
        "\n",
        "print(f'Random Forest Model\\'s accuracy on training set is {100*model.score(X_train, y_train):.2f}%')\n",
        "print(f'Random Forest Model\\'s accuracy on test set is {100*model.score(X_test, y_test):.2f}%')"
      ]
    },
    {
      "cell_type": "markdown",
      "metadata": {
        "id": "vM9-k8KLL9hi"
      },
      "source": [
        "Not bad for zero effort put into the default model. **Random Forests make a good benchmark model**, especially when strapped for time.\n",
        "\n",
        "**_Max features_ defines size of random feature subset decided upon at each node; sqrt(#features) is a good default for classification.**\n",
        "\n",
        "**_Gini_ and _Entropy_ are functions computing quality of classified samples within each node; they almost always provide similar performance but Entropy is more suited to classification while Gini is better for continuous variables.**\n"
      ]
    },
    {
      "cell_type": "markdown",
      "metadata": {
        "id": "DnhnxuGXL9hi"
      },
      "source": [
        "\n",
        "As wonderful as Random Forests are, it's clear that we're going to need to pull out bigger guns if we want to get appreciable performance on this dataset, perhaps even with good generalizability on test data. DNNs(Deep Neural Networks) are the next step-up in complexity from classical machine learning models, and we will start at the first rung on that ladder:Simple Perceptron in next lab!"
      ]
    }
  ],
  "metadata": {
    "kernelspec": {
      "display_name": "PyCharm (Speech Classifier)",
      "language": "python",
      "name": "pycharm-6a34225"
    },
    "language_info": {
      "codemirror_mode": {
        "name": "ipython",
        "version": 3
      },
      "file_extension": ".py",
      "mimetype": "text/x-python",
      "name": "python",
      "nbconvert_exporter": "python",
      "pygments_lexer": "ipython3",
      "version": "3.8.3"
    },
    "colab": {
      "provenance": [],
      "include_colab_link": true
    }
  },
  "nbformat": 4,
  "nbformat_minor": 0
}